{
 "cells": [
  {
   "cell_type": "markdown",
   "id": "21f9c39e",
   "metadata": {},
   "source": [
    "# Task"
   ]
  },
  {
   "cell_type": "markdown",
   "id": "31f1456e",
   "metadata": {},
   "source": [
    "As a data analyst there is plenty of opportunity to improve processes or suggest new ways of doing things. When doing so it is often very smart and efficient (time is a scarce resource) to create a POC (Proof of Concept) which basically is a small demo checking wether it is worthwile going further with something. It is also something concrete which facilitates discussions, do not underestimate the power of that. \n",
    "\n",
    "In this example, you are working in a company that sells houses and they have a \"manual\" process of setting prices by humans. You as a Data Scientist can make this process better by using Machine Learning. Your task is to create a POC that you will present to your team colleagues and use as a source of discussion of wether or not you should continue with more detailed modelling. \n",
    "\n",
    "Two quotes to facilitate your reflection on the value of creating a PoC: \n",
    "\n",
    "\"*Premature optimization is the root of all evil*\". \n",
    "\n",
    "\"*Fail fast*\".\n",
    "\n",
    "**More specifially, do the following:**\n",
    "\n",
    "1. A short EDA (Exploratory Data Analysis) of the housing data set.\n",
    "2. Drop the column \"ocean_proximity\", then you only have numeric columns which will simplify your analysis. Remember, this is a POC!\n",
    "3. Split your data into train and test set. \n",
    "4. Create a pipeline containing a SimpleImputer [ SimpleImputer(strategy=\"median\") ] and a std_scaler (and fit-transform your train set). \n",
    "\n",
    "5. Use GridSearchCV when choosing your model. You will look at a RandomForestRegressor with 2, 5, 10 or 100 estimators. More specifically, use the following code: \n",
    "\n",
    "```python\n",
    "param_grid = [{'n_estimators': [2, 5, 10, 100]}]\n",
    "\n",
    "forest_reg = RandomForestRegressor(random_state=42)\n",
    "\n",
    "grid_search = GridSearchCV(forest_reg, param_grid, cv=3,\n",
    "                           scoring='neg_mean_squared_error',\n",
    "                           return_train_score=True)\n",
    "\n",
    "grid_search.fit(train_feature, train_label)\n",
    "```\n",
    "\n",
    "6. Evaluate your model on the test set using the mean squared error as the metric. Conclusions? (Remember, you have fitted your pipeline above so now you just transform your test set without fitting your pipeline on it, else it is \"cheating\".)\n",
    "\n",
    "7. Do a short presentation (~ 2-5 min) on your POC that you present to your colleagues (no need to prepare anything particular, just talk from the code). Think of:\n",
    "- What do you want to highlight/present?\n",
    "- What is your conclusion?\n",
    "- What could be the next step? Is the POC convincing enough or is it not worthwile continuing? Do we need to dig deeper into this before taking some decisions?"
   ]
  },
  {
   "cell_type": "markdown",
   "id": "a96931ff",
   "metadata": {},
   "source": [
    "# POC"
   ]
  },
  {
   "cell_type": "code",
   "execution_count": 234,
   "id": "ee4fcb98",
   "metadata": {},
   "outputs": [],
   "source": [
    "import numpy as np\n",
    "import pandas as pd\n",
    "import matplotlib.pyplot as plt\n",
    "import seaborn ###############################\n",
    "\n",
    "from sklearn.pipeline import Pipeline\n",
    "from sklearn.preprocessing import StandardScaler\n",
    "from sklearn.impute import SimpleImputer\n",
    "\n",
    "from sklearn.model_selection import train_test_split\n",
    "from sklearn.model_selection import StratifiedShuffleSplit\n",
    "\n",
    "\n",
    "from sklearn.model_selection import GridSearchCV\n",
    "from sklearn.ensemble import RandomForestRegressor\n",
    "\n",
    "from sklearn.metrics import mean_squared_error"
   ]
  },
  {
   "cell_type": "code",
   "execution_count": 235,
   "id": "147ea5de",
   "metadata": {},
   "outputs": [],
   "source": [
    "# Below, set your own path where you have stored the data file. \n",
    "housing = pd.read_csv(r'C:\\Users\\Bananberg\\datasets\\housing\\housing.csv')"
   ]
  },
  {
   "cell_type": "markdown",
   "id": "fee19169",
   "metadata": {},
   "source": [
    "## EDA"
   ]
  },
  {
   "cell_type": "code",
   "execution_count": 236,
   "id": "d266b11f",
   "metadata": {},
   "outputs": [
    {
     "name": "stdout",
     "output_type": "stream",
     "text": [
      "<class 'pandas.core.frame.DataFrame'>\n",
      "RangeIndex: 20640 entries, 0 to 20639\n",
      "Data columns (total 10 columns):\n",
      " #   Column              Non-Null Count  Dtype  \n",
      "---  ------              --------------  -----  \n",
      " 0   longitude           20640 non-null  float64\n",
      " 1   latitude            20640 non-null  float64\n",
      " 2   housing_median_age  20640 non-null  float64\n",
      " 3   total_rooms         20640 non-null  float64\n",
      " 4   total_bedrooms      20433 non-null  float64\n",
      " 5   population          20640 non-null  float64\n",
      " 6   households          20640 non-null  float64\n",
      " 7   median_income       20640 non-null  float64\n",
      " 8   median_house_value  20640 non-null  float64\n",
      " 9   ocean_proximity     20640 non-null  object \n",
      "dtypes: float64(9), object(1)\n",
      "memory usage: 1.6+ MB\n"
     ]
    }
   ],
   "source": [
    "housing.info()"
   ]
  },
  {
   "attachments": {},
   "cell_type": "markdown",
   "id": "19c23267",
   "metadata": {},
   "source": [
    "Här ser vi att total bedrooms saknar värde... Eftersom detta är en Poc tänker jag att jag tar bort den columen snabbt. "
   ]
  },
  {
   "attachments": {},
   "cell_type": "markdown",
   "id": "660d90bf",
   "metadata": {},
   "source": [
    "Men sparar en variabel med bedrooms så vi kan testa vad resutlatet blir om vi hinner. \" med eller utan bedrooms\" "
   ]
  },
  {
   "cell_type": "code",
   "execution_count": 237,
   "id": "948c21de",
   "metadata": {},
   "outputs": [
    {
     "data": {
      "text/html": [
       "<div>\n",
       "<style scoped>\n",
       "    .dataframe tbody tr th:only-of-type {\n",
       "        vertical-align: middle;\n",
       "    }\n",
       "\n",
       "    .dataframe tbody tr th {\n",
       "        vertical-align: top;\n",
       "    }\n",
       "\n",
       "    .dataframe thead th {\n",
       "        text-align: right;\n",
       "    }\n",
       "</style>\n",
       "<table border=\"1\" class=\"dataframe\">\n",
       "  <thead>\n",
       "    <tr style=\"text-align: right;\">\n",
       "      <th></th>\n",
       "      <th>longitude</th>\n",
       "      <th>latitude</th>\n",
       "      <th>housing_median_age</th>\n",
       "      <th>total_rooms</th>\n",
       "      <th>total_bedrooms</th>\n",
       "      <th>population</th>\n",
       "      <th>households</th>\n",
       "      <th>median_income</th>\n",
       "      <th>median_house_value</th>\n",
       "    </tr>\n",
       "  </thead>\n",
       "  <tbody>\n",
       "    <tr>\n",
       "      <th>count</th>\n",
       "      <td>20640.000000</td>\n",
       "      <td>20640.000000</td>\n",
       "      <td>20640.000000</td>\n",
       "      <td>20640.000000</td>\n",
       "      <td>20433.000000</td>\n",
       "      <td>20640.000000</td>\n",
       "      <td>20640.000000</td>\n",
       "      <td>20640.000000</td>\n",
       "      <td>20640.000000</td>\n",
       "    </tr>\n",
       "    <tr>\n",
       "      <th>mean</th>\n",
       "      <td>-119.569704</td>\n",
       "      <td>35.631861</td>\n",
       "      <td>28.639486</td>\n",
       "      <td>2635.763081</td>\n",
       "      <td>537.870553</td>\n",
       "      <td>1425.476744</td>\n",
       "      <td>499.539680</td>\n",
       "      <td>3.870671</td>\n",
       "      <td>206855.816909</td>\n",
       "    </tr>\n",
       "    <tr>\n",
       "      <th>std</th>\n",
       "      <td>2.003532</td>\n",
       "      <td>2.135952</td>\n",
       "      <td>12.585558</td>\n",
       "      <td>2181.615252</td>\n",
       "      <td>421.385070</td>\n",
       "      <td>1132.462122</td>\n",
       "      <td>382.329753</td>\n",
       "      <td>1.899822</td>\n",
       "      <td>115395.615874</td>\n",
       "    </tr>\n",
       "    <tr>\n",
       "      <th>min</th>\n",
       "      <td>-124.350000</td>\n",
       "      <td>32.540000</td>\n",
       "      <td>1.000000</td>\n",
       "      <td>2.000000</td>\n",
       "      <td>1.000000</td>\n",
       "      <td>3.000000</td>\n",
       "      <td>1.000000</td>\n",
       "      <td>0.499900</td>\n",
       "      <td>14999.000000</td>\n",
       "    </tr>\n",
       "    <tr>\n",
       "      <th>25%</th>\n",
       "      <td>-121.800000</td>\n",
       "      <td>33.930000</td>\n",
       "      <td>18.000000</td>\n",
       "      <td>1447.750000</td>\n",
       "      <td>296.000000</td>\n",
       "      <td>787.000000</td>\n",
       "      <td>280.000000</td>\n",
       "      <td>2.563400</td>\n",
       "      <td>119600.000000</td>\n",
       "    </tr>\n",
       "    <tr>\n",
       "      <th>50%</th>\n",
       "      <td>-118.490000</td>\n",
       "      <td>34.260000</td>\n",
       "      <td>29.000000</td>\n",
       "      <td>2127.000000</td>\n",
       "      <td>435.000000</td>\n",
       "      <td>1166.000000</td>\n",
       "      <td>409.000000</td>\n",
       "      <td>3.534800</td>\n",
       "      <td>179700.000000</td>\n",
       "    </tr>\n",
       "    <tr>\n",
       "      <th>75%</th>\n",
       "      <td>-118.010000</td>\n",
       "      <td>37.710000</td>\n",
       "      <td>37.000000</td>\n",
       "      <td>3148.000000</td>\n",
       "      <td>647.000000</td>\n",
       "      <td>1725.000000</td>\n",
       "      <td>605.000000</td>\n",
       "      <td>4.743250</td>\n",
       "      <td>264725.000000</td>\n",
       "    </tr>\n",
       "    <tr>\n",
       "      <th>max</th>\n",
       "      <td>-114.310000</td>\n",
       "      <td>41.950000</td>\n",
       "      <td>52.000000</td>\n",
       "      <td>39320.000000</td>\n",
       "      <td>6445.000000</td>\n",
       "      <td>35682.000000</td>\n",
       "      <td>6082.000000</td>\n",
       "      <td>15.000100</td>\n",
       "      <td>500001.000000</td>\n",
       "    </tr>\n",
       "  </tbody>\n",
       "</table>\n",
       "</div>"
      ],
      "text/plain": [
       "          longitude      latitude  housing_median_age   total_rooms  \\\n",
       "count  20640.000000  20640.000000        20640.000000  20640.000000   \n",
       "mean    -119.569704     35.631861           28.639486   2635.763081   \n",
       "std        2.003532      2.135952           12.585558   2181.615252   \n",
       "min     -124.350000     32.540000            1.000000      2.000000   \n",
       "25%     -121.800000     33.930000           18.000000   1447.750000   \n",
       "50%     -118.490000     34.260000           29.000000   2127.000000   \n",
       "75%     -118.010000     37.710000           37.000000   3148.000000   \n",
       "max     -114.310000     41.950000           52.000000  39320.000000   \n",
       "\n",
       "       total_bedrooms    population    households  median_income  \\\n",
       "count    20433.000000  20640.000000  20640.000000   20640.000000   \n",
       "mean       537.870553   1425.476744    499.539680       3.870671   \n",
       "std        421.385070   1132.462122    382.329753       1.899822   \n",
       "min          1.000000      3.000000      1.000000       0.499900   \n",
       "25%        296.000000    787.000000    280.000000       2.563400   \n",
       "50%        435.000000   1166.000000    409.000000       3.534800   \n",
       "75%        647.000000   1725.000000    605.000000       4.743250   \n",
       "max       6445.000000  35682.000000   6082.000000      15.000100   \n",
       "\n",
       "       median_house_value  \n",
       "count        20640.000000  \n",
       "mean        206855.816909  \n",
       "std         115395.615874  \n",
       "min          14999.000000  \n",
       "25%         119600.000000  \n",
       "50%         179700.000000  \n",
       "75%         264725.000000  \n",
       "max         500001.000000  "
      ]
     },
     "execution_count": 237,
     "metadata": {},
     "output_type": "execute_result"
    }
   ],
   "source": [
    "housing.describe()"
   ]
  },
  {
   "attachments": {},
   "cell_type": "markdown",
   "id": "a963301f",
   "metadata": {},
   "source": [
    "Vi skapar något visuellt för att se om det finns några uppenbara korelationer. "
   ]
  },
  {
   "cell_type": "code",
   "execution_count": 238,
   "id": "f18f8cf2",
   "metadata": {},
   "outputs": [
    {
     "name": "stderr",
     "output_type": "stream",
     "text": [
      "C:\\Users\\Bananberg\\AppData\\Local\\Temp\\ipykernel_18348\\2748997868.py:1: FutureWarning: The default value of numeric_only in DataFrame.corr is deprecated. In a future version, it will default to False. Select only valid columns or specify the value of numeric_only to silence this warning.\n",
      "  corr = housing.corr()\n"
     ]
    },
    {
     "data": {
      "text/plain": [
       "<Axes: >"
      ]
     },
     "execution_count": 238,
     "metadata": {},
     "output_type": "execute_result"
    },
    {
     "data": {
      "image/png": "[encoded data removed]",
      "text/plain": [
       "<Figure size 1100x900 with 2 Axes>"
      ]
     },
     "metadata": {},
     "output_type": "display_data"
    }
   ],
   "source": [
    "corr = housing.corr()\n",
    "\n",
    "mask = np.triu(np.ones_like(corr, dtype=bool))\n",
    "\n",
    "\n",
    "f, ax = plt.subplots(figsize=(11,9))\n",
    "cmap = seaborn.diverging_palette(230, 20, as_cmap=True)\n",
    "seaborn.heatmap(corr,mask=mask, cmap=cmap, vmax=.3, center=0, square=True, linewidths=.5, cbar_kws={\"shrink\": .5})\n"
   ]
  },
  {
   "attachments": {},
   "cell_type": "markdown",
   "id": "05a33a03",
   "metadata": {},
   "source": [
    "### Okej, median_house_value och median_income har stark correlation.\n",
    "\n",
    "### De andra correlationerna är ganska självklara och inte lika interssant i en poc"
   ]
  },
  {
   "cell_type": "code",
   "execution_count": 239,
   "id": "ced5d208",
   "metadata": {},
   "outputs": [
    {
     "data": {
      "text/plain": [
       "<Axes: >"
      ]
     },
     "execution_count": 239,
     "metadata": {},
     "output_type": "execute_result"
    },
    {
     "data": {
      "image/png": "[encoded data removed]",
      "text/plain": [
       "<Figure size 640x480 with 1 Axes>"
      ]
     },
     "metadata": {},
     "output_type": "display_data"
    }
   ],
   "source": [
    "housing[\"median_income\"].hist()"
   ]
  },
  {
   "cell_type": "code",
   "execution_count": 240,
   "id": "4b8fc16d",
   "metadata": {},
   "outputs": [
    {
     "data": {
      "text/plain": [
       "<Axes: >"
      ]
     },
     "execution_count": 240,
     "metadata": {},
     "output_type": "execute_result"
    },
    {
     "data": {
      "image/png": "[encoded data removed]",
      "text/plain": [
       "<Figure size 640x480 with 1 Axes>"
      ]
     },
     "metadata": {},
     "output_type": "display_data"
    }
   ],
   "source": [
    "housing[\"median_house_value\"].hist()"
   ]
  },
  {
   "attachments": {},
   "cell_type": "markdown",
   "id": "a79bcb23",
   "metadata": {},
   "source": [
    "### Vi skapar några variabler som går att modellera mot varnadra och som vi splittar. "
   ]
  },
  {
   "attachments": {},
   "cell_type": "markdown",
   "id": "493859d8",
   "metadata": {},
   "source": [
    "Vi tar bort det som skänns ofullständigt och orelevant samt droppar det som inte är numeriskt för att kunna splitta datasettet."
   ]
  },
  {
   "cell_type": "code",
   "execution_count": 241,
   "id": "4df9d327",
   "metadata": {},
   "outputs": [],
   "source": [
    "housing_num = housing.drop([\"ocean_proximity\"], axis=1)\n",
    "\n"
   ]
  },
  {
   "attachments": {},
   "cell_type": "markdown",
   "id": "42c4dfcb",
   "metadata": {},
   "source": [
    "## Vi splittar housing . num "
   ]
  },
  {
   "cell_type": "code",
   "execution_count": 242,
   "id": "483f2d1a",
   "metadata": {},
   "outputs": [],
   "source": [
    "train_set, test_set = train_test_split(housing_num, test_size=0.2, random_state=42)"
   ]
  },
  {
   "attachments": {},
   "cell_type": "markdown",
   "id": "90bfdba0",
   "metadata": {},
   "source": [
    "## Vi tittar så splittet gick bra och är jämn"
   ]
  },
  {
   "cell_type": "code",
   "execution_count": 243,
   "id": "c5530e3d",
   "metadata": {},
   "outputs": [
    {
     "data": {
      "text/plain": [
       "((16512, 9), (4128, 9))"
      ]
     },
     "execution_count": 243,
     "metadata": {},
     "output_type": "execute_result"
    }
   ],
   "source": [
    "train_set.shape, test_set.shape"
   ]
  },
  {
   "attachments": {},
   "cell_type": "markdown",
   "id": "c14b0522",
   "metadata": {},
   "source": [
    "## Vi delar skapar fetuers set och target set av split datan.\n",
    "## samt train och test sets"
   ]
  },
  {
   "cell_type": "code",
   "execution_count": 244,
   "id": "3851fdd0",
   "metadata": {},
   "outputs": [],
   "source": [
    "X_train_pre = train_set.drop(\"median_house_value\", axis=1)\n",
    "y_train = train_set[\"median_house_value\"].copy()"
   ]
  },
  {
   "cell_type": "code",
   "execution_count": 245,
   "id": "21b0b875",
   "metadata": {},
   "outputs": [],
   "source": [
    "X_test_pre = test_set.drop(\"median_house_value\", axis=1)\n",
    "y_test = test_set[\"median_house_value\"].copy()"
   ]
  },
  {
   "attachments": {},
   "cell_type": "markdown",
   "id": "8da0f253",
   "metadata": {},
   "source": [
    "## Vi testar att stratify split "
   ]
  },
  {
   "cell_type": "code",
   "execution_count": 246,
   "id": "15a77102",
   "metadata": {},
   "outputs": [],
   "source": [
    "# split = StratifiedShuffleSplit(n_splits=1, test_size=0.2, random_state=42)\n",
    "# for train_index, test_index in split.split(housing_num, housing_num):\n",
    "    \n",
    "#  strat_train_set = housing_num.loc[train_index]\n",
    "#  strat_test_set = housing_num.loc[test_index]"
   ]
  },
  {
   "cell_type": "code",
   "execution_count": 247,
   "id": "89e6e485",
   "metadata": {},
   "outputs": [
    {
     "data": {
      "text/html": [
       "<div>\n",
       "<style scoped>\n",
       "    .dataframe tbody tr th:only-of-type {\n",
       "        vertical-align: middle;\n",
       "    }\n",
       "\n",
       "    .dataframe tbody tr th {\n",
       "        vertical-align: top;\n",
       "    }\n",
       "\n",
       "    .dataframe thead th {\n",
       "        text-align: right;\n",
       "    }\n",
       "</style>\n",
       "<table border=\"1\" class=\"dataframe\">\n",
       "  <thead>\n",
       "    <tr style=\"text-align: right;\">\n",
       "      <th></th>\n",
       "      <th>housing data set</th>\n",
       "      <th>manual random split</th>\n",
       "    </tr>\n",
       "  </thead>\n",
       "  <tbody>\n",
       "    <tr>\n",
       "      <th>0.4999</th>\n",
       "      <td>0.000581</td>\n",
       "      <td>0.000606</td>\n",
       "    </tr>\n",
       "    <tr>\n",
       "      <th>0.5360</th>\n",
       "      <td>0.000484</td>\n",
       "      <td>0.000606</td>\n",
       "    </tr>\n",
       "    <tr>\n",
       "      <th>0.5495</th>\n",
       "      <td>0.000048</td>\n",
       "      <td>0.000061</td>\n",
       "    </tr>\n",
       "    <tr>\n",
       "      <th>0.6433</th>\n",
       "      <td>0.000048</td>\n",
       "      <td>0.000061</td>\n",
       "    </tr>\n",
       "    <tr>\n",
       "      <th>0.6775</th>\n",
       "      <td>0.000048</td>\n",
       "      <td>NaN</td>\n",
       "    </tr>\n",
       "    <tr>\n",
       "      <th>...</th>\n",
       "      <td>...</td>\n",
       "      <td>...</td>\n",
       "    </tr>\n",
       "    <tr>\n",
       "      <th>14.4219</th>\n",
       "      <td>0.000048</td>\n",
       "      <td>0.000061</td>\n",
       "    </tr>\n",
       "    <tr>\n",
       "      <th>14.5833</th>\n",
       "      <td>0.000048</td>\n",
       "      <td>0.000061</td>\n",
       "    </tr>\n",
       "    <tr>\n",
       "      <th>14.9009</th>\n",
       "      <td>0.000048</td>\n",
       "      <td>0.000061</td>\n",
       "    </tr>\n",
       "    <tr>\n",
       "      <th>15.0000</th>\n",
       "      <td>0.000097</td>\n",
       "      <td>0.000121</td>\n",
       "    </tr>\n",
       "    <tr>\n",
       "      <th>15.0001</th>\n",
       "      <td>0.002374</td>\n",
       "      <td>0.002483</td>\n",
       "    </tr>\n",
       "  </tbody>\n",
       "</table>\n",
       "<p>12928 rows × 2 columns</p>\n",
       "</div>"
      ],
      "text/plain": [
       "         housing data set  manual random split\n",
       "0.4999           0.000581             0.000606\n",
       "0.5360           0.000484             0.000606\n",
       "0.5495           0.000048             0.000061\n",
       "0.6433           0.000048             0.000061\n",
       "0.6775           0.000048                  NaN\n",
       "...                   ...                  ...\n",
       "14.4219          0.000048             0.000061\n",
       "14.5833          0.000048             0.000061\n",
       "14.9009          0.000048             0.000061\n",
       "15.0000          0.000097             0.000121\n",
       "15.0001          0.002374             0.002483\n",
       "\n",
       "[12928 rows x 2 columns]"
      ]
     },
     "execution_count": 247,
     "metadata": {},
     "output_type": "execute_result"
    }
   ],
   "source": [
    "def income_cat_proportions(data):\n",
    "    return data[\"median_income\"].value_counts() / len(data)\n",
    "\n",
    "compare_props = pd.DataFrame({\n",
    "    \"housing data set\": income_cat_proportions(housing_num), # the wohle data / population\n",
    "    #\"Stratified data set\": income_cat_proportions(strat_test_set), # the 80% stratifyed test sampling \n",
    "    \"manual random split\": income_cat_proportions(X_train_pre), # the 80% test sampling \n",
    "}).sort_index()\n",
    "\n",
    "compare_props"
   ]
  },
  {
   "attachments": {},
   "cell_type": "markdown",
   "id": "81db7d31",
   "metadata": {},
   "source": [
    "# PIPLINE TIME!"
   ]
  },
  {
   "cell_type": "code",
   "execution_count": 248,
   "id": "2a1dbc23",
   "metadata": {},
   "outputs": [],
   "source": [
    "my_pipe = Pipeline ([\n",
    "        ('imputer', SimpleImputer(strategy='median')), # fixar det saknade värdet.\n",
    "        ('std_scaler', StandardScaler()),\n",
    "])\n",
    "X_train = my_pipe.fit_transform(X_train_pre)"
   ]
  },
  {
   "attachments": {},
   "cell_type": "markdown",
   "id": "d10883f4",
   "metadata": {},
   "source": [
    "## Nu är datan fittad geonom pipline. "
   ]
  },
  {
   "cell_type": "code",
   "execution_count": 249,
   "id": "bf38daaf",
   "metadata": {},
   "outputs": [
    {
     "data": {
      "text/plain": [
       "array([[ 1.27258656, -1.3728112 ,  0.34849025, ...,  0.76827628,\n",
       "         0.32290591, -0.326196  ],\n",
       "       [ 0.70916212, -0.87669601,  1.61811813, ..., -0.09890135,\n",
       "         0.6720272 , -0.03584338],\n",
       "       [-0.44760309, -0.46014647, -1.95271028, ..., -0.44981806,\n",
       "        -0.43046109,  0.14470145],\n",
       "       ...,\n",
       "       [ 0.59946887, -0.75500738,  0.58654547, ...,  0.28983345,\n",
       "         0.07090859, -0.49697313],\n",
       "       [-1.18553953,  0.90651045, -1.07984112, ...,  0.30830275,\n",
       "         0.15490769,  0.96545045],\n",
       "       [-1.41489815,  0.99543676,  1.85617335, ...,  1.04883375,\n",
       "         1.94776365, -0.68544764]])"
      ]
     },
     "execution_count": 249,
     "metadata": {},
     "output_type": "execute_result"
    }
   ],
   "source": [
    "X_train"
   ]
  },
  {
   "attachments": {},
   "cell_type": "markdown",
   "id": "daa75cff",
   "metadata": {},
   "source": [
    "# Låt oss applicera lite modeller"
   ]
  },
  {
   "cell_type": "code",
   "execution_count": 250,
   "id": "5fd4a88e",
   "metadata": {},
   "outputs": [
    {
     "data": {
      "text/html": [
       "<style>#sk-container-id-4 {color: black;background-color: white;}#sk-container-id-4 pre{padding: 0;}#sk-container-id-4 div.sk-toggleable {background-color: white;}#sk-container-id-4 label.sk-toggleable__label {cursor: pointer;display: block;width: 100%;margin-bottom: 0;padding: 0.3em;box-sizing: border-box;text-align: center;}#sk-container-id-4 label.sk-toggleable__label-arrow:before {content: \"▸\";float: left;margin-right: 0.25em;color: #696969;}#sk-container-id-4 label.sk-toggleable__label-arrow:hover:before {color: black;}#sk-container-id-4 div.sk-estimator:hover label.sk-toggleable__label-arrow:before {color: black;}#sk-container-id-4 div.sk-toggleable__content {max-height: 0;max-width: 0;overflow: hidden;text-align: left;background-color: #f0f8ff;}#sk-container-id-4 div.sk-toggleable__content pre {margin: 0.2em;color: black;border-radius: 0.25em;background-color: #f0f8ff;}#sk-container-id-4 input.sk-toggleable__control:checked~div.sk-toggleable__content {max-height: 200px;max-width: 100%;overflow: auto;}#sk-container-id-4 input.sk-toggleable__control:checked~label.sk-toggleable__label-arrow:before {content: \"▾\";}#sk-container-id-4 div.sk-estimator input.sk-toggleable__control:checked~label.sk-toggleable__label {background-color: #d4ebff;}#sk-container-id-4 div.sk-label input.sk-toggleable__control:checked~label.sk-toggleable__label {background-color: #d4ebff;}#sk-container-id-4 input.sk-hidden--visually {border: 0;clip: rect(1px 1px 1px 1px);clip: rect(1px, 1px, 1px, 1px);height: 1px;margin: -1px;overflow: hidden;padding: 0;position: absolute;width: 1px;}#sk-container-id-4 div.sk-estimator {font-family: monospace;background-color: #f0f8ff;border: 1px dotted black;border-radius: 0.25em;box-sizing: border-box;margin-bottom: 0.5em;}#sk-container-id-4 div.sk-estimator:hover {background-color: #d4ebff;}#sk-container-id-4 div.sk-parallel-item::after {content: \"\";width: 100%;border-bottom: 1px solid gray;flex-grow: 1;}#sk-container-id-4 div.sk-label:hover label.sk-toggleable__label {background-color: #d4ebff;}#sk-container-id-4 div.sk-serial::before {content: \"\";position: absolute;border-left: 1px solid gray;box-sizing: border-box;top: 0;bottom: 0;left: 50%;z-index: 0;}#sk-container-id-4 div.sk-serial {display: flex;flex-direction: column;align-items: center;background-color: white;padding-right: 0.2em;padding-left: 0.2em;position: relative;}#sk-container-id-4 div.sk-item {position: relative;z-index: 1;}#sk-container-id-4 div.sk-parallel {display: flex;align-items: stretch;justify-content: center;background-color: white;position: relative;}#sk-container-id-4 div.sk-item::before, #sk-container-id-4 div.sk-parallel-item::before {content: \"\";position: absolute;border-left: 1px solid gray;box-sizing: border-box;top: 0;bottom: 0;left: 50%;z-index: -1;}#sk-container-id-4 div.sk-parallel-item {display: flex;flex-direction: column;z-index: 1;position: relative;background-color: white;}#sk-container-id-4 div.sk-parallel-item:first-child::after {align-self: flex-end;width: 50%;}#sk-container-id-4 div.sk-parallel-item:last-child::after {align-self: flex-start;width: 50%;}#sk-container-id-4 div.sk-parallel-item:only-child::after {width: 0;}#sk-container-id-4 div.sk-dashed-wrapped {border: 1px dashed gray;margin: 0 0.4em 0.5em 0.4em;box-sizing: border-box;padding-bottom: 0.4em;background-color: white;}#sk-container-id-4 div.sk-label label {font-family: monospace;font-weight: bold;display: inline-block;line-height: 1.2em;}#sk-container-id-4 div.sk-label-container {text-align: center;}#sk-container-id-4 div.sk-container {/* jupyter's `normalize.less` sets `[hidden] { display: none; }` but bootstrap.min.css set `[hidden] { display: none !important; }` so we also need the `!important` here to be able to override the default hidden behavior on the sphinx rendered scikit-learn.org. See: https://github.com/scikit-learn/scikit-learn/issues/21755 */display: inline-block !important;position: relative;}#sk-container-id-4 div.sk-text-repr-fallback {display: none;}</style><div id=\"sk-container-id-4\" class=\"sk-top-container\"><div class=\"sk-text-repr-fallback\"><pre>GridSearchCV(cv=3, estimator=RandomForestRegressor(random_state=42),\n",
       "             param_grid=[{&#x27;n_estimators&#x27;: [2, 5, 10, 100]}],\n",
       "             return_train_score=True, scoring=&#x27;neg_mean_squared_error&#x27;)</pre><b>In a Jupyter environment, please rerun this cell to show the HTML representation or trust the notebook. <br />On GitHub, the HTML representation is unable to render, please try loading this page with nbviewer.org.</b></div><div class=\"sk-container\" hidden><div class=\"sk-item sk-dashed-wrapped\"><div class=\"sk-label-container\"><div class=\"sk-label sk-toggleable\"><input class=\"sk-toggleable__control sk-hidden--visually\" id=\"sk-estimator-id-10\" type=\"checkbox\" ><label for=\"sk-estimator-id-10\" class=\"sk-toggleable__label sk-toggleable__label-arrow\">GridSearchCV</label><div class=\"sk-toggleable__content\"><pre>GridSearchCV(cv=3, estimator=RandomForestRegressor(random_state=42),\n",
       "             param_grid=[{&#x27;n_estimators&#x27;: [2, 5, 10, 100]}],\n",
       "             return_train_score=True, scoring=&#x27;neg_mean_squared_error&#x27;)</pre></div></div></div><div class=\"sk-parallel\"><div class=\"sk-parallel-item\"><div class=\"sk-item\"><div class=\"sk-label-container\"><div class=\"sk-label sk-toggleable\"><input class=\"sk-toggleable__control sk-hidden--visually\" id=\"sk-estimator-id-11\" type=\"checkbox\" ><label for=\"sk-estimator-id-11\" class=\"sk-toggleable__label sk-toggleable__label-arrow\">estimator: RandomForestRegressor</label><div class=\"sk-toggleable__content\"><pre>RandomForestRegressor(random_state=42)</pre></div></div></div><div class=\"sk-serial\"><div class=\"sk-item\"><div class=\"sk-estimator sk-toggleable\"><input class=\"sk-toggleable__control sk-hidden--visually\" id=\"sk-estimator-id-12\" type=\"checkbox\" ><label for=\"sk-estimator-id-12\" class=\"sk-toggleable__label sk-toggleable__label-arrow\">RandomForestRegressor</label><div class=\"sk-toggleable__content\"><pre>RandomForestRegressor(random_state=42)</pre></div></div></div></div></div></div></div></div></div></div>"
      ],
      "text/plain": [
       "GridSearchCV(cv=3, estimator=RandomForestRegressor(random_state=42),\n",
       "             param_grid=[{'n_estimators': [2, 5, 10, 100]}],\n",
       "             return_train_score=True, scoring='neg_mean_squared_error')"
      ]
     },
     "execution_count": 250,
     "metadata": {},
     "output_type": "execute_result"
    }
   ],
   "source": [
    "param_grid = [{'n_estimators': [2, 5, 10, 100]}]\n",
    "\n",
    "forest_reg = RandomForestRegressor(random_state=42)\n",
    "\n",
    "grid_search = GridSearchCV(forest_reg, param_grid, cv=3,\n",
    "                           scoring='neg_mean_squared_error',\n",
    "                           return_train_score=True)\n",
    "\n",
    "grid_search.fit(X_train, y_train)"
   ]
  },
  {
   "cell_type": "code",
   "execution_count": 251,
   "id": "109c36ab",
   "metadata": {},
   "outputs": [
    {
     "data": {
      "text/html": [
       "<div>\n",
       "<style scoped>\n",
       "    .dataframe tbody tr th:only-of-type {\n",
       "        vertical-align: middle;\n",
       "    }\n",
       "\n",
       "    .dataframe tbody tr th {\n",
       "        vertical-align: top;\n",
       "    }\n",
       "\n",
       "    .dataframe thead th {\n",
       "        text-align: right;\n",
       "    }\n",
       "</style>\n",
       "<table border=\"1\" class=\"dataframe\">\n",
       "  <thead>\n",
       "    <tr style=\"text-align: right;\">\n",
       "      <th></th>\n",
       "      <th>mean_fit_time</th>\n",
       "      <th>std_fit_time</th>\n",
       "      <th>mean_score_time</th>\n",
       "      <th>std_score_time</th>\n",
       "      <th>param_n_estimators</th>\n",
       "      <th>params</th>\n",
       "      <th>split0_test_score</th>\n",
       "      <th>split1_test_score</th>\n",
       "      <th>split2_test_score</th>\n",
       "      <th>mean_test_score</th>\n",
       "      <th>std_test_score</th>\n",
       "      <th>rank_test_score</th>\n",
       "      <th>split0_train_score</th>\n",
       "      <th>split1_train_score</th>\n",
       "      <th>split2_train_score</th>\n",
       "      <th>mean_train_score</th>\n",
       "      <th>std_train_score</th>\n",
       "    </tr>\n",
       "  </thead>\n",
       "  <tbody>\n",
       "    <tr>\n",
       "      <th>0</th>\n",
       "      <td>0.156218</td>\n",
       "      <td>0.005040</td>\n",
       "      <td>0.003223</td>\n",
       "      <td>0.000388</td>\n",
       "      <td>2</td>\n",
       "      <td>{'n_estimators': 2}</td>\n",
       "      <td>-4.381116e+09</td>\n",
       "      <td>-3.972698e+09</td>\n",
       "      <td>-4.196944e+09</td>\n",
       "      <td>-4.183586e+09</td>\n",
       "      <td>1.670033e+08</td>\n",
       "      <td>4</td>\n",
       "      <td>-1.315632e+09</td>\n",
       "      <td>-1.254250e+09</td>\n",
       "      <td>-1.183058e+09</td>\n",
       "      <td>-1.250980e+09</td>\n",
       "      <td>5.417238e+07</td>\n",
       "    </tr>\n",
       "    <tr>\n",
       "      <th>1</th>\n",
       "      <td>0.375436</td>\n",
       "      <td>0.006097</td>\n",
       "      <td>0.009547</td>\n",
       "      <td>0.003488</td>\n",
       "      <td>5</td>\n",
       "      <td>{'n_estimators': 5}</td>\n",
       "      <td>-3.301854e+09</td>\n",
       "      <td>-2.984350e+09</td>\n",
       "      <td>-3.243556e+09</td>\n",
       "      <td>-3.176586e+09</td>\n",
       "      <td>1.379999e+08</td>\n",
       "      <td>3</td>\n",
       "      <td>-7.176629e+08</td>\n",
       "      <td>-6.757194e+08</td>\n",
       "      <td>-6.857290e+08</td>\n",
       "      <td>-6.930371e+08</td>\n",
       "      <td>1.788610e+07</td>\n",
       "    </tr>\n",
       "    <tr>\n",
       "      <th>2</th>\n",
       "      <td>0.761810</td>\n",
       "      <td>0.010797</td>\n",
       "      <td>0.009126</td>\n",
       "      <td>0.002133</td>\n",
       "      <td>10</td>\n",
       "      <td>{'n_estimators': 10}</td>\n",
       "      <td>-2.963571e+09</td>\n",
       "      <td>-2.785780e+09</td>\n",
       "      <td>-2.917142e+09</td>\n",
       "      <td>-2.888831e+09</td>\n",
       "      <td>7.529313e+07</td>\n",
       "      <td>2</td>\n",
       "      <td>-5.317911e+08</td>\n",
       "      <td>-5.141796e+08</td>\n",
       "      <td>-5.107097e+08</td>\n",
       "      <td>-5.188935e+08</td>\n",
       "      <td>9.229349e+06</td>\n",
       "    </tr>\n",
       "    <tr>\n",
       "      <th>3</th>\n",
       "      <td>7.679652</td>\n",
       "      <td>0.100344</td>\n",
       "      <td>0.096104</td>\n",
       "      <td>0.004352</td>\n",
       "      <td>100</td>\n",
       "      <td>{'n_estimators': 100}</td>\n",
       "      <td>-2.628848e+09</td>\n",
       "      <td>-2.473381e+09</td>\n",
       "      <td>-2.584217e+09</td>\n",
       "      <td>-2.562149e+09</td>\n",
       "      <td>6.535927e+07</td>\n",
       "      <td>1</td>\n",
       "      <td>-3.658958e+08</td>\n",
       "      <td>-3.702222e+08</td>\n",
       "      <td>-3.560675e+08</td>\n",
       "      <td>-3.640618e+08</td>\n",
       "      <td>5.922344e+06</td>\n",
       "    </tr>\n",
       "  </tbody>\n",
       "</table>\n",
       "</div>"
      ],
      "text/plain": [
       "   mean_fit_time  std_fit_time  mean_score_time  std_score_time  \\\n",
       "0       0.156218      0.005040         0.003223        0.000388   \n",
       "1       0.375436      0.006097         0.009547        0.003488   \n",
       "2       0.761810      0.010797         0.009126        0.002133   \n",
       "3       7.679652      0.100344         0.096104        0.004352   \n",
       "\n",
       "  param_n_estimators                 params  split0_test_score  \\\n",
       "0                  2    {'n_estimators': 2}      -4.381116e+09   \n",
       "1                  5    {'n_estimators': 5}      -3.301854e+09   \n",
       "2                 10   {'n_estimators': 10}      -2.963571e+09   \n",
       "3                100  {'n_estimators': 100}      -2.628848e+09   \n",
       "\n",
       "   split1_test_score  split2_test_score  mean_test_score  std_test_score  \\\n",
       "0      -3.972698e+09      -4.196944e+09    -4.183586e+09    1.670033e+08   \n",
       "1      -2.984350e+09      -3.243556e+09    -3.176586e+09    1.379999e+08   \n",
       "2      -2.785780e+09      -2.917142e+09    -2.888831e+09    7.529313e+07   \n",
       "3      -2.473381e+09      -2.584217e+09    -2.562149e+09    6.535927e+07   \n",
       "\n",
       "   rank_test_score  split0_train_score  split1_train_score  \\\n",
       "0                4       -1.315632e+09       -1.254250e+09   \n",
       "1                3       -7.176629e+08       -6.757194e+08   \n",
       "2                2       -5.317911e+08       -5.141796e+08   \n",
       "3                1       -3.658958e+08       -3.702222e+08   \n",
       "\n",
       "   split2_train_score  mean_train_score  std_train_score  \n",
       "0       -1.183058e+09     -1.250980e+09     5.417238e+07  \n",
       "1       -6.857290e+08     -6.930371e+08     1.788610e+07  \n",
       "2       -5.107097e+08     -5.188935e+08     9.229349e+06  \n",
       "3       -3.560675e+08     -3.640618e+08     5.922344e+06  "
      ]
     },
     "execution_count": 251,
     "metadata": {},
     "output_type": "execute_result"
    }
   ],
   "source": [
    "pd.DataFrame(grid_search.cv_results_)"
   ]
  },
  {
   "attachments": {},
   "cell_type": "markdown",
   "id": "c5df6ebd",
   "metadata": {},
   "source": [
    "# Evaluate model on the test set"
   ]
  },
  {
   "cell_type": "code",
   "execution_count": 252,
   "id": "33fea43a",
   "metadata": {},
   "outputs": [],
   "source": [
    "X_test = my_pipe.transform(X_test_pre)"
   ]
  },
  {
   "cell_type": "code",
   "execution_count": 253,
   "id": "85ee767c",
   "metadata": {},
   "outputs": [],
   "source": [
    "prediction = grid_search.predict(X_test)"
   ]
  },
  {
   "cell_type": "code",
   "execution_count": 254,
   "id": "6a6c4643",
   "metadata": {},
   "outputs": [
    {
     "data": {
      "text/plain": [
       "49875.648686594046"
      ]
     },
     "execution_count": 254,
     "metadata": {},
     "output_type": "execute_result"
    }
   ],
   "source": [
    "mse = mean_squared_error(y_test, prediction)\n",
    "rmse = np.sqrt(mse)\n",
    "rmse"
   ]
  },
  {
   "cell_type": "code",
   "execution_count": 255,
   "id": "dfe82300",
   "metadata": {},
   "outputs": [
    {
     "data": {
      "text/plain": [
       "206855.81690891474"
      ]
     },
     "execution_count": 255,
     "metadata": {},
     "output_type": "execute_result"
    }
   ],
   "source": [
    "mean_value = housing[\"median_house_value\"].mean()\n",
    "mean_value"
   ]
  },
  {
   "cell_type": "code",
   "execution_count": 256,
   "id": "2f4f4159",
   "metadata": {},
   "outputs": [
    {
     "data": {
      "text/plain": [
       "0.24111310685817405"
      ]
     },
     "execution_count": 256,
     "metadata": {},
     "output_type": "execute_result"
    }
   ],
   "source": [
    "rmse/ mean_value"
   ]
  }
 ],
 "metadata": {
  "kernelspec": {
   "display_name": "Python 3 (ipykernel)",
   "language": "python",
   "name": "python3"
  },
  "language_info": {
   "codemirror_mode": {
    "name": "ipython",
    "version": 3
   },
   "file_extension": ".py",
   "mimetype": "text/x-python",
   "name": "python",
   "nbconvert_exporter": "python",
   "pygments_lexer": "ipython3",
   "version": "3.9.16"
  }
 },
 "nbformat": 4,
 "nbformat_minor": 5
}
